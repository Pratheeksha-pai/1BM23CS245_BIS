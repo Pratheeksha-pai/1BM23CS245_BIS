{
  "nbformat": 4,
  "nbformat_minor": 0,
  "metadata": {
    "colab": {
      "provenance": []
    },
    "kernelspec": {
      "name": "python3",
      "display_name": "Python 3"
    },
    "language_info": {
      "name": "python"
    }
  },
  "cells": [
    {
      "cell_type": "code",
      "execution_count": 3,
      "metadata": {
        "colab": {
          "base_uri": "https://localhost:8080/"
        },
        "id": "QltTxRhKdHBr",
        "outputId": "0c1b95d3-1703-48eb-fd1c-8058ff4b9252"
      },
      "outputs": [
        {
          "output_type": "stream",
          "name": "stdout",
          "text": [
            "By: USN: 1BM23CS245, NAME: PRATHEEKSHA PAI\n",
            "Iteration 1/100, Best fitness: 175\n",
            "Iteration 11/100, Best fitness: 175\n",
            "Iteration 21/100, Best fitness: 175\n",
            "Iteration 31/100, Best fitness: 175\n",
            "Iteration 41/100, Best fitness: 175\n",
            "Iteration 51/100, Best fitness: 175\n",
            "Iteration 61/100, Best fitness: 175\n",
            "Iteration 71/100, Best fitness: 175\n",
            "Iteration 81/100, Best fitness: 175\n",
            "Iteration 91/100, Best fitness: 175\n",
            "Iteration 100/100, Best fitness: 175\n",
            "\n",
            "Optimal packet order (indices): [2 0 3 1 4]\n",
            "Minimum total delay: 175\n"
          ]
        }
      ],
      "source": [
        "import numpy as np\n",
        "\n",
        "print(\"By: USN: 1BM23CS245, NAME: PRATHEEKSHA PAI\")\n",
        "# Example packet delays (in ms)\n",
        "packet_delays = [10, 20, 5, 15, 25]\n",
        "\n",
        "# Objective function: minimize total completion time for given packet order\n",
        "def objective(order):\n",
        "    total_time = 0\n",
        "    current_time = 0\n",
        "    for i in order:\n",
        "        current_time += packet_delays[i]\n",
        "        total_time += current_time\n",
        "    return total_time\n",
        "\n",
        "# Generate a random solution (permutation of packets)\n",
        "def random_solution(n):\n",
        "    solution = np.arange(n)\n",
        "    np.random.shuffle(solution)\n",
        "    return solution\n",
        "\n",
        "# Levy flight step (for continuous problems, adapted for permutation with swap)\n",
        "def levy_flight(solution):\n",
        "    n = len(solution)\n",
        "    # Swap two random positions\n",
        "    i, j = np.random.choice(n, 2, replace=False)\n",
        "    new_solution = solution.copy()\n",
        "    new_solution[i], new_solution[j] = new_solution[j], new_solution[i]\n",
        "    return new_solution\n",
        "\n",
        "def cuckoo_search(n_packets, n_nests=15, n_iterations=100, pa=0.25):\n",
        "    # Initialize nests with random solutions\n",
        "    nests = [random_solution(n_packets) for _ in range(n_nests)]\n",
        "    fitness = np.array([objective(nest) for nest in nests])\n",
        "\n",
        "    best_idx = np.argmin(fitness)\n",
        "    best_nest = nests[best_idx].copy()\n",
        "    best_fitness = fitness[best_idx]\n",
        "\n",
        "    for iter in range(n_iterations):\n",
        "        # Generate new solutions by Levy flights\n",
        "        for i in range(n_nests):\n",
        "            new_nest = levy_flight(nests[i])\n",
        "            new_fitness = objective(new_nest)\n",
        "\n",
        "            # Greedy selection: keep better solutions\n",
        "            if new_fitness < fitness[i]:\n",
        "                nests[i] = new_nest\n",
        "                fitness[i] = new_fitness\n",
        "\n",
        "                # Update global best\n",
        "                if new_fitness < best_fitness:\n",
        "                    best_fitness = new_fitness\n",
        "                    best_nest = new_nest.copy()\n",
        "\n",
        "        # Abandon some nests and generate new ones\n",
        "        for i in range(n_nests):\n",
        "            if np.random.rand() < pa:\n",
        "                nests[i] = random_solution(n_packets)\n",
        "                fitness[i] = objective(nests[i])\n",
        "\n",
        "                # Update global best\n",
        "                if fitness[i] < best_fitness:\n",
        "                    best_fitness = fitness[i]\n",
        "                    best_nest = nests[i].copy()\n",
        "\n",
        "        if iter % 10 == 0 or iter == n_iterations - 1:\n",
        "            print(f\"Iteration {iter+1}/{n_iterations}, Best fitness: {best_fitness}\")\n",
        "\n",
        "    return best_nest, best_fitness\n",
        "\n",
        "# Run the Cuckoo Search optimization\n",
        "best_order, best_cost = cuckoo_search(len(packet_delays))\n",
        "print(\"\\nOptimal packet order (indices):\", best_order)\n",
        "print(\"Minimum total delay:\", best_cost)\n"
      ]
    }
  ]
}